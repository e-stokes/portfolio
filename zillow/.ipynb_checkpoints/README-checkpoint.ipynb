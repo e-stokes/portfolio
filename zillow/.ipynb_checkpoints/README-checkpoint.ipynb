{
 "cells": [
  {
   "cell_type": "markdown",
   "metadata": {},
   "source": [
    "# Problem Statement:\n",
    "\n",
    "Can we accurately estimate financial property losses due to a disaster within a given zip code?\n",
    "\n",
    "# Data Acquisition:\n",
    "\n",
    "We focused on acquiring our property data from Zillow’s API. We used a Zillow API key to generate queries based on zip code. Obtained address data from openaddress.io and wrote code that will return a random sample of addresses within a given zip code. Run a query with the sample addresses to get property values using the Zillow API to obtain Zestimates. We then downloaded the occupancy of residential properties from census.gov.\n",
    "\n",
    "# WebApp Tool:\n",
    "\n",
    "We designed a web application that will take in a given zip code and return a summary of financial estimates along with a map of the affected area. The application utilizes the Flask framework running on an AWS linux server. The application also uses Bokeh to generate a map with the zip code boundaries from Google maps API. The financial information is displayed in a data frame showing the mean property value, median property value, minimum property value, maximum property value, and  estimated total damages. A histogram shows the distribution of Zillow Zestimate values within the affected area.\n",
    "\n",
    "# Limitations:\n",
    "\n",
    "The Zillow API only allows individual addresses to be queried and limits queries to 1000 per day.\n",
    "Because we can only get limited individual address data from Zillow, we have to sample addresses in the provided zip code, and this is computationally intensive and requires imputation of the remaining properties.\n",
    "We only have access to public address lists which do not provide 100% coverage for all zip codes (private lists may significantly improved coverage).  Some areas have no address coverage at all.\n",
    "We rely on census data to estimate the remaining number of residential units.  This data is also an estimate and is not timely.\n",
    "Our estimates are based on property prices being log-normally distributed.  While this is relatively accurate, there are discussions in academic literature of more accurate models for prices and scholars note that during periods of economic crisis prices become more difficult to model (see T. Ohnishi et al., 2010)\n",
    "\n",
    "# Conclusions:\n",
    "\n",
    "Our sampling method with only 100 samples, matches Zillow’s home value index with an R2 score of 92%. We can effectively estimate in real time the financial losses of a zip code given an upcoming disaster.\n",
    "\n",
    "# Sources:\n",
    "\n",
    "Slide Images:\n",
    "Photo by Stephen Monroe on Unsplash\n",
    "\n",
    "Photo by Ryan Wilson on Unsplash\n",
    "\n",
    "Research:\n",
    "https://www.iii.org/fact-statistic/facts-statistics-us-catastrophes\n"
   ]
  },
  {
   "cell_type": "code",
   "execution_count": null,
   "metadata": {},
   "outputs": [],
   "source": []
  }
 ],
 "metadata": {
  "kernelspec": {
   "display_name": "Python 3",
   "language": "python",
   "name": "python3"
  },
  "language_info": {
   "codemirror_mode": {
    "name": "ipython",
    "version": 3
   },
   "file_extension": ".py",
   "mimetype": "text/x-python",
   "name": "python",
   "nbconvert_exporter": "python",
   "pygments_lexer": "ipython3",
   "version": "3.7.3"
  }
 },
 "nbformat": 4,
 "nbformat_minor": 2
}
